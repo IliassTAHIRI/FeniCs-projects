{
 "cells": [
  {
   "cell_type": "markdown",
   "metadata": {},
   "source": [
    "Poroelasticity equation:\n",
    "\\begin{equation}\n",
    " \\begin{cases}\n",
    "   -\\nabla \\cdot (2\\mu\\varepsilon(\\mathbf{u}) + \\lambda (\\nabla \\cdot \\mathbf{u} )\\mathbf{I}) + \\alpha   \n",
    "   \\nabla p = \\mathbf{f} \\\\\n",
    "   \\partial_t (c_0p + \\alpha \\nabla \\cdot \\mathbf{u}) + \\nabla \\cdot (-\\mathbf{K}\\nabla p) = s\n",
    "  \\end{cases},\n",
    "\\end{equation}\n",
    "where $\\mu  = 1, \\lambda = 1, \\alpha = 1, c_0  = 0.1, \\mathbf{K} = \\kappa \\mathbf{I}. $ It is a coupled PDEs for poroelasticity, where \n",
    "$-\\nabla \\cdot (2\\mu\\varepsilon(\\mathbf{u}) + \\lambda (\\nabla \\cdot \\mathbf{u} )\\mathbf{I}) + \\alpha \\nabla p = \\mathbf{f} $ \n",
    "is for the solid displacement, and\n",
    " $ \\partial_t (c_0p + \\alpha \\nabla \\cdot \\mathbf{u}) + \\nabla \\cdot (-\\mathbf{K}\\nabla p) = s$ \n",
    " is for the fluid pressure.\\\\\n",
    " "
   ]
  },
  {
   "cell_type": "code",
   "execution_count": null,
   "metadata": {
    "collapsed": true
   },
   "outputs": [],
   "source": []
  }
 ],
 "metadata": {
  "kernelspec": {
   "display_name": "Python 2",
   "language": "python",
   "name": "python2"
  },
  "language_info": {
   "codemirror_mode": {
    "name": "ipython",
    "version": 2
   },
   "file_extension": ".py",
   "mimetype": "text/x-python",
   "name": "python",
   "nbconvert_exporter": "python",
   "pygments_lexer": "ipython2",
   "version": "2.7.14"
  }
 },
 "nbformat": 4,
 "nbformat_minor": 2
}
